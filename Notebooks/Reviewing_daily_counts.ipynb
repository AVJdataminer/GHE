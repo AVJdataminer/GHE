{
 "cells": [
  {
   "cell_type": "code",
   "execution_count": 1,
   "metadata": {},
   "outputs": [],
   "source": [
    "import os\n",
    "import pandas as pd\n",
    "import datetime\n",
    "import seaborn as sns\n",
    "import matplotlib.pyplot as plt\n",
    "import numpy as np\n",
    "%matplotlib inline\n",
    "import json\n",
    "import altair as alt"
   ]
  },
  {
   "cell_type": "code",
   "execution_count": 28,
   "metadata": {},
   "outputs": [
    {
     "data": {
      "text/plain": [
       "['issues_1.json',\n",
       " 'NB_issues.csv',\n",
       " 'DS_issues.csv',\n",
       " 'issues_0.json',\n",
       " 'DA_issues.csv',\n",
       " 'issues_4.json',\n",
       " 'all_repos.csv',\n",
       " 'simple_all_repo_issues.csv',\n",
       " 'issues_3.json',\n",
       " 'issues_2.json']"
      ]
     },
     "execution_count": 28,
     "metadata": {},
     "output_type": "execute_result"
    }
   ],
   "source": [
    "os.listdir('data/')"
   ]
  },
  {
   "cell_type": "markdown",
   "metadata": {},
   "source": [
    "## Data Science Repo"
   ]
  },
  {
   "cell_type": "code",
   "execution_count": 3,
   "metadata": {
    "tags": []
   },
   "outputs": [
    {
     "name": "stdout",
     "output_type": "stream",
     "text": [
      "<class 'pandas.core.frame.DataFrame'>\n",
      "RangeIndex: 500 entries, 0 to 499\n",
      "Data columns (total 27 columns):\n",
      "Unnamed: 0                  500 non-null int64\n",
      "active_lock_reason          0 non-null float64\n",
      "assignee                    297 non-null object\n",
      "assignees                   500 non-null object\n",
      "author_association          500 non-null object\n",
      "body                        485 non-null object\n",
      "closed_at                   500 non-null object\n",
      "comments                    500 non-null int64\n",
      "comments_url                500 non-null object\n",
      "created_at                  500 non-null int64\n",
      "events_url                  500 non-null object\n",
      "html_url                    500 non-null object\n",
      "id                          500 non-null int64\n",
      "labels                      500 non-null object\n",
      "labels_url                  500 non-null object\n",
      "locked                      500 non-null bool\n",
      "milestone                   0 non-null float64\n",
      "node_id                     500 non-null object\n",
      "number                      500 non-null int64\n",
      "performed_via_github_app    0 non-null float64\n",
      "pull_request                66 non-null object\n",
      "repository_url              500 non-null object\n",
      "state                       500 non-null object\n",
      "title                       500 non-null object\n",
      "updated_at                  500 non-null int64\n",
      "url                         500 non-null object\n",
      "user                        500 non-null object\n",
      "dtypes: bool(1), float64(3), int64(6), object(17)\n",
      "memory usage: 102.2+ KB\n"
     ]
    }
   ],
   "source": [
    "ds = pd.read_csv('data/DS_issues.csv')\n",
    "ds.info()"
   ]
  },
  {
   "cell_type": "code",
   "execution_count": 34,
   "metadata": {
    "tags": []
   },
   "outputs": [],
   "source": [
    "da = pd.read_csv('data/DA_issues.csv')\n",
    "#da.info()"
   ]
  },
  {
   "cell_type": "code",
   "execution_count": 7,
   "metadata": {},
   "outputs": [
    {
     "data": {
      "text/plain": [
       "0    20200817\n",
       "1    20200816\n",
       "2    20200815\n",
       "3    20200814\n",
       "4    20200814\n",
       "Name: created_at, dtype: int64"
      ]
     },
     "execution_count": 7,
     "metadata": {},
     "output_type": "execute_result"
    }
   ],
   "source": [
    "ds.created_at.head()"
   ]
  },
  {
   "cell_type": "code",
   "execution_count": 9,
   "metadata": {},
   "outputs": [
    {
     "data": {
      "text/plain": [
       "0    2020-08-17\n",
       "1    2020-08-16\n",
       "2    2020-08-15\n",
       "3    2020-08-14\n",
       "4    2020-08-14\n",
       "Name: date, dtype: object"
      ]
     },
     "execution_count": 9,
     "metadata": {},
     "output_type": "execute_result"
    }
   ],
   "source": [
    "ds['date'] = pd.to_datetime(ds['created_at'], format ='%Y%m%d').dt.date\n",
    "ds['date'].head()"
   ]
  },
  {
   "cell_type": "code",
   "execution_count": 18,
   "metadata": {},
   "outputs": [],
   "source": [
    "ds1 = ds.groupby(ds['date']).size().reset_index(name='Count')\n",
    "ds1.to_csv('ds-daily-issue-counts.csv', index=False)"
   ]
  },
  {
   "cell_type": "code",
   "execution_count": 21,
   "metadata": {},
   "outputs": [
    {
     "data": {
      "text/html": [
       "<div>\n",
       "<style scoped>\n",
       "    .dataframe tbody tr th:only-of-type {\n",
       "        vertical-align: middle;\n",
       "    }\n",
       "\n",
       "    .dataframe tbody tr th {\n",
       "        vertical-align: top;\n",
       "    }\n",
       "\n",
       "    .dataframe thead th {\n",
       "        text-align: right;\n",
       "    }\n",
       "</style>\n",
       "<table border=\"1\" class=\"dataframe\">\n",
       "  <thead>\n",
       "    <tr style=\"text-align: right;\">\n",
       "      <th></th>\n",
       "      <th>date</th>\n",
       "      <th>Count</th>\n",
       "    </tr>\n",
       "  </thead>\n",
       "  <tbody>\n",
       "    <tr>\n",
       "      <th>0</th>\n",
       "      <td>2020-03-29</td>\n",
       "      <td>1</td>\n",
       "    </tr>\n",
       "    <tr>\n",
       "      <th>1</th>\n",
       "      <td>2020-03-30</td>\n",
       "      <td>3</td>\n",
       "    </tr>\n",
       "    <tr>\n",
       "      <th>2</th>\n",
       "      <td>2020-03-31</td>\n",
       "      <td>7</td>\n",
       "    </tr>\n",
       "    <tr>\n",
       "      <th>3</th>\n",
       "      <td>2020-04-01</td>\n",
       "      <td>7</td>\n",
       "    </tr>\n",
       "    <tr>\n",
       "      <th>4</th>\n",
       "      <td>2020-04-02</td>\n",
       "      <td>4</td>\n",
       "    </tr>\n",
       "    <tr>\n",
       "      <th>...</th>\n",
       "      <td>...</td>\n",
       "      <td>...</td>\n",
       "    </tr>\n",
       "    <tr>\n",
       "      <th>121</th>\n",
       "      <td>2020-08-13</td>\n",
       "      <td>2</td>\n",
       "    </tr>\n",
       "    <tr>\n",
       "      <th>122</th>\n",
       "      <td>2020-08-14</td>\n",
       "      <td>4</td>\n",
       "    </tr>\n",
       "    <tr>\n",
       "      <th>123</th>\n",
       "      <td>2020-08-15</td>\n",
       "      <td>2</td>\n",
       "    </tr>\n",
       "    <tr>\n",
       "      <th>124</th>\n",
       "      <td>2020-08-16</td>\n",
       "      <td>2</td>\n",
       "    </tr>\n",
       "    <tr>\n",
       "      <th>125</th>\n",
       "      <td>2020-08-17</td>\n",
       "      <td>2</td>\n",
       "    </tr>\n",
       "  </tbody>\n",
       "</table>\n",
       "<p>126 rows × 2 columns</p>\n",
       "</div>"
      ],
      "text/plain": [
       "           date  Count\n",
       "0    2020-03-29      1\n",
       "1    2020-03-30      3\n",
       "2    2020-03-31      7\n",
       "3    2020-04-01      7\n",
       "4    2020-04-02      4\n",
       "..          ...    ...\n",
       "121  2020-08-13      2\n",
       "122  2020-08-14      4\n",
       "123  2020-08-15      2\n",
       "124  2020-08-16      2\n",
       "125  2020-08-17      2\n",
       "\n",
       "[126 rows x 2 columns]"
      ]
     },
     "execution_count": 21,
     "metadata": {},
     "output_type": "execute_result"
    }
   ],
   "source": [
    "ds1"
   ]
  },
  {
   "cell_type": "code",
   "execution_count": 23,
   "metadata": {},
   "outputs": [
    {
     "data": {
      "text/plain": [
       "<matplotlib.axes._subplots.AxesSubplot at 0x7fe9f081a7f0>"
      ]
     },
     "execution_count": 23,
     "metadata": {},
     "output_type": "execute_result"
    },
    {
     "data": {
      "image/png": "[encoded data removed]",
      "text/plain": [
       "<Figure size 432x288 with 1 Axes>"
      ]
     },
     "metadata": {
      "needs_background": "light"
     },
     "output_type": "display_data"
    }
   ],
   "source": [
    "ds1.plot()"
   ]
  },
  {
   "cell_type": "markdown",
   "metadata": {},
   "source": [
    "## Data Analytics Repo"
   ]
  },
  {
   "cell_type": "code",
   "execution_count": 19,
   "metadata": {},
   "outputs": [],
   "source": [
    "da['date'] = pd.to_datetime(da['created_at'], format ='%Y%m%d').dt.date\n",
    "da1 = da.groupby(da['date']).size().reset_index(name='Count')\n",
    "da1.to_csv('da-daily-issue-counts.csv', index=False)"
   ]
  },
  {
   "cell_type": "code",
   "execution_count": 24,
   "metadata": {},
   "outputs": [
    {
     "data": {
      "text/plain": [
       "<matplotlib.axes._subplots.AxesSubplot at 0x7fe9c0dc4640>"
      ]
     },
     "execution_count": 24,
     "metadata": {},
     "output_type": "execute_result"
    },
    {
     "data": {
      "image/png": "[encoded data removed]",
      "text/plain": [
       "<Figure size 432x288 with 1 Axes>"
      ]
     },
     "metadata": {
      "needs_background": "light"
     },
     "output_type": "display_data"
    }
   ],
   "source": [
    "da1.plot()"
   ]
  },
  {
   "cell_type": "markdown",
   "metadata": {},
   "source": [
    "## Notebooks Repo"
   ]
  },
  {
   "cell_type": "code",
   "execution_count": 25,
   "metadata": {},
   "outputs": [
    {
     "name": "stdout",
     "output_type": "stream",
     "text": [
      "<class 'pandas.core.frame.DataFrame'>\n",
      "RangeIndex: 259 entries, 0 to 258\n",
      "Data columns (total 27 columns):\n",
      "Unnamed: 0                  259 non-null int64\n",
      "url                         259 non-null object\n",
      "repository_url              259 non-null object\n",
      "labels_url                  259 non-null object\n",
      "comments_url                259 non-null object\n",
      "events_url                  259 non-null object\n",
      "html_url                    259 non-null object\n",
      "id                          259 non-null int64\n",
      "node_id                     259 non-null object\n",
      "number                      259 non-null int64\n",
      "title                       259 non-null object\n",
      "user                        259 non-null object\n",
      "labels                      259 non-null object\n",
      "state                       259 non-null object\n",
      "locked                      259 non-null bool\n",
      "assignee                    8 non-null object\n",
      "assignees                   259 non-null object\n",
      "milestone                   0 non-null float64\n",
      "comments                    259 non-null int64\n",
      "created_at                  259 non-null int64\n",
      "updated_at                  259 non-null int64\n",
      "closed_at                   259 non-null object\n",
      "author_association          259 non-null object\n",
      "active_lock_reason          0 non-null float64\n",
      "pull_request                259 non-null object\n",
      "body                        158 non-null object\n",
      "performed_via_github_app    0 non-null float64\n",
      "dtypes: bool(1), float64(3), int64(6), object(17)\n",
      "memory usage: 53.0+ KB\n"
     ]
    }
   ],
   "source": [
    "nb = pd.read_csv('data/NB_issues.csv')\n",
    "nb.info()"
   ]
  },
  {
   "cell_type": "code",
   "execution_count": 26,
   "metadata": {},
   "outputs": [
    {
     "data": {
      "text/plain": [
       "<matplotlib.axes._subplots.AxesSubplot at 0x7fe9f08abc40>"
      ]
     },
     "execution_count": 26,
     "metadata": {},
     "output_type": "execute_result"
    },
    {
     "data": {
      "image/png": "[encoded data removed]",
      "text/plain": [
       "<Figure size 432x288 with 1 Axes>"
      ]
     },
     "metadata": {
      "needs_background": "light"
     },
     "output_type": "display_data"
    }
   ],
   "source": [
    "nb['date'] = pd.to_datetime(nb['created_at'], format ='%Y%m%d').dt.date\n",
    "nb1 = nb.groupby(nb['date']).size().reset_index(name='Count')\n",
    "nb1.plot()"
   ]
  },
  {
   "cell_type": "code",
   "execution_count": 27,
   "metadata": {},
   "outputs": [],
   "source": [
    "nb1.to_csv('nb-daily-issue-counts.csv', index=False)"
   ]
  },
  {
   "cell_type": "markdown",
   "metadata": {},
   "source": [
    "# Three Repos (DS, DA, and Jupyter-NB)"
   ]
  },
  {
   "cell_type": "code",
   "execution_count": 29,
   "metadata": {},
   "outputs": [
    {
     "data": {
      "text/html": [
       "<div>\n",
       "<style scoped>\n",
       "    .dataframe tbody tr th:only-of-type {\n",
       "        vertical-align: middle;\n",
       "    }\n",
       "\n",
       "    .dataframe tbody tr th {\n",
       "        vertical-align: top;\n",
       "    }\n",
       "\n",
       "    .dataframe thead th {\n",
       "        text-align: right;\n",
       "    }\n",
       "</style>\n",
       "<table border=\"1\" class=\"dataframe\">\n",
       "  <thead>\n",
       "    <tr style=\"text-align: right;\">\n",
       "      <th></th>\n",
       "      <th>created_at</th>\n",
       "      <th>updated_at</th>\n",
       "      <th>closed_at</th>\n",
       "      <th>title</th>\n",
       "      <th>repository_url</th>\n",
       "      <th>number</th>\n",
       "    </tr>\n",
       "  </thead>\n",
       "  <tbody>\n",
       "    <tr>\n",
       "      <th>0</th>\n",
       "      <td>20200812</td>\n",
       "      <td>20200812</td>\n",
       "      <td>20200812</td>\n",
       "      <td>Update random_forest_guided_example.ipynb</td>\n",
       "      <td>https://api.github.com/repos/Thinkful-Ed/jupyt...</td>\n",
       "      <td>159</td>\n",
       "    </tr>\n",
       "    <tr>\n",
       "      <th>1</th>\n",
       "      <td>20200807</td>\n",
       "      <td>20200810</td>\n",
       "      <td>20200810</td>\n",
       "      <td>Update model_prep_feature_engineering_2.ipynb</td>\n",
       "      <td>https://api.github.com/repos/Thinkful-Ed/jupyt...</td>\n",
       "      <td>158</td>\n",
       "    </tr>\n",
       "    <tr>\n",
       "      <th>2</th>\n",
       "      <td>20200803</td>\n",
       "      <td>20200804</td>\n",
       "      <td>20200804</td>\n",
       "      <td>Closes Thinkful-Ed/data-science#1408</td>\n",
       "      <td>https://api.github.com/repos/Thinkful-Ed/jupyt...</td>\n",
       "      <td>157</td>\n",
       "    </tr>\n",
       "    <tr>\n",
       "      <th>3</th>\n",
       "      <td>20200730</td>\n",
       "      <td>20200730</td>\n",
       "      <td>20200730</td>\n",
       "      <td>Fix issue</td>\n",
       "      <td>https://api.github.com/repos/Thinkful-Ed/jupyt...</td>\n",
       "      <td>156</td>\n",
       "    </tr>\n",
       "    <tr>\n",
       "      <th>4</th>\n",
       "      <td>20200729</td>\n",
       "      <td>20200729</td>\n",
       "      <td>20200729</td>\n",
       "      <td>Update 6.1.1 Intro to Time.ipynb</td>\n",
       "      <td>https://api.github.com/repos/Thinkful-Ed/jupyt...</td>\n",
       "      <td>155</td>\n",
       "    </tr>\n",
       "    <tr>\n",
       "      <th>...</th>\n",
       "      <td>...</td>\n",
       "      <td>...</td>\n",
       "      <td>...</td>\n",
       "      <td>...</td>\n",
       "      <td>...</td>\n",
       "      <td>...</td>\n",
       "    </tr>\n",
       "    <tr>\n",
       "      <th>1254</th>\n",
       "      <td>20200625</td>\n",
       "      <td>20200626</td>\n",
       "      <td>20200626</td>\n",
       "      <td>User-submitted feedback for DABC-PYTHON-1</td>\n",
       "      <td>https://api.github.com/repos/Thinkful-Ed/data-...</td>\n",
       "      <td>1187</td>\n",
       "    </tr>\n",
       "    <tr>\n",
       "      <th>1255</th>\n",
       "      <td>20200625</td>\n",
       "      <td>20200803</td>\n",
       "      <td>NaT</td>\n",
       "      <td>[Change the SQL ordering] Question from the Ed...</td>\n",
       "      <td>https://api.github.com/repos/Thinkful-Ed/data-...</td>\n",
       "      <td>1186</td>\n",
       "    </tr>\n",
       "    <tr>\n",
       "      <th>1256</th>\n",
       "      <td>20200625</td>\n",
       "      <td>20200720</td>\n",
       "      <td>20200720</td>\n",
       "      <td>[Question about SQL and '' in strings]  Questi...</td>\n",
       "      <td>https://api.github.com/repos/Thinkful-Ed/data-...</td>\n",
       "      <td>1185</td>\n",
       "    </tr>\n",
       "    <tr>\n",
       "      <th>1257</th>\n",
       "      <td>20200625</td>\n",
       "      <td>20200707</td>\n",
       "      <td>NaT</td>\n",
       "      <td>[Question about Tableau aggregations]  Questio...</td>\n",
       "      <td>https://api.github.com/repos/Thinkful-Ed/data-...</td>\n",
       "      <td>1184</td>\n",
       "    </tr>\n",
       "    <tr>\n",
       "      <th>1258</th>\n",
       "      <td>20200625</td>\n",
       "      <td>20200707</td>\n",
       "      <td>20200707</td>\n",
       "      <td>Question from the Editing Team</td>\n",
       "      <td>https://api.github.com/repos/Thinkful-Ed/data-...</td>\n",
       "      <td>1183</td>\n",
       "    </tr>\n",
       "  </tbody>\n",
       "</table>\n",
       "<p>1259 rows × 6 columns</p>\n",
       "</div>"
      ],
      "text/plain": [
       "      created_at  updated_at closed_at  \\\n",
       "0       20200812    20200812  20200812   \n",
       "1       20200807    20200810  20200810   \n",
       "2       20200803    20200804  20200804   \n",
       "3       20200730    20200730  20200730   \n",
       "4       20200729    20200729  20200729   \n",
       "...          ...         ...       ...   \n",
       "1254    20200625    20200626  20200626   \n",
       "1255    20200625    20200803       NaT   \n",
       "1256    20200625    20200720  20200720   \n",
       "1257    20200625    20200707       NaT   \n",
       "1258    20200625    20200707  20200707   \n",
       "\n",
       "                                                  title  \\\n",
       "0             Update random_forest_guided_example.ipynb   \n",
       "1         Update model_prep_feature_engineering_2.ipynb   \n",
       "2                  Closes Thinkful-Ed/data-science#1408   \n",
       "3                                             Fix issue   \n",
       "4                      Update 6.1.1 Intro to Time.ipynb   \n",
       "...                                                 ...   \n",
       "1254          User-submitted feedback for DABC-PYTHON-1   \n",
       "1255  [Change the SQL ordering] Question from the Ed...   \n",
       "1256  [Question about SQL and '' in strings]  Questi...   \n",
       "1257  [Question about Tableau aggregations]  Questio...   \n",
       "1258                     Question from the Editing Team   \n",
       "\n",
       "                                         repository_url  number  \n",
       "0     https://api.github.com/repos/Thinkful-Ed/jupyt...     159  \n",
       "1     https://api.github.com/repos/Thinkful-Ed/jupyt...     158  \n",
       "2     https://api.github.com/repos/Thinkful-Ed/jupyt...     157  \n",
       "3     https://api.github.com/repos/Thinkful-Ed/jupyt...     156  \n",
       "4     https://api.github.com/repos/Thinkful-Ed/jupyt...     155  \n",
       "...                                                 ...     ...  \n",
       "1254  https://api.github.com/repos/Thinkful-Ed/data-...    1187  \n",
       "1255  https://api.github.com/repos/Thinkful-Ed/data-...    1186  \n",
       "1256  https://api.github.com/repos/Thinkful-Ed/data-...    1185  \n",
       "1257  https://api.github.com/repos/Thinkful-Ed/data-...    1184  \n",
       "1258  https://api.github.com/repos/Thinkful-Ed/data-...    1183  \n",
       "\n",
       "[1259 rows x 6 columns]"
      ]
     },
     "execution_count": 29,
     "metadata": {},
     "output_type": "execute_result"
    }
   ],
   "source": [
    "sim = pd.read_csv('data/simple_all_repo_issues.csv')\n",
    "sim"
   ]
  },
  {
   "cell_type": "code",
   "execution_count": 30,
   "metadata": {},
   "outputs": [
    {
     "data": {
      "text/plain": [
       "<matplotlib.axes._subplots.AxesSubplot at 0x7fe9f091bc40>"
      ]
     },
     "execution_count": 30,
     "metadata": {},
     "output_type": "execute_result"
    },
    {
     "data": {
      "image/png": "[encoded data removed]",
      "text/plain": [
       "<Figure size 432x288 with 1 Axes>"
      ]
     },
     "metadata": {
      "needs_background": "light"
     },
     "output_type": "display_data"
    }
   ],
   "source": [
    "sim['date'] = pd.to_datetime(sim['created_at'], format ='%Y%m%d').dt.date\n",
    "sim1 = sim.groupby(sim['date']).size().reset_index(name='Count')\n",
    "sim1.plot()"
   ]
  },
  {
   "cell_type": "code",
   "execution_count": 31,
   "metadata": {},
   "outputs": [],
   "source": [
    "sim1.to_csv('all3repos-daily-issue-counts.csv', index=False)"
   ]
  },
  {
   "cell_type": "code",
   "execution_count": 32,
   "metadata": {},
   "outputs": [
    {
     "data": {
      "text/plain": [
       "datetime.date(2019, 2, 6)"
      ]
     },
     "execution_count": 32,
     "metadata": {},
     "output_type": "execute_result"
    }
   ],
   "source": [
    "sim1.date.min()"
   ]
  },
  {
   "cell_type": "code",
   "execution_count": 33,
   "metadata": {},
   "outputs": [
    {
     "data": {
      "text/plain": [
       "datetime.date(2020, 8, 17)"
      ]
     },
     "execution_count": 33,
     "metadata": {},
     "output_type": "execute_result"
    }
   ],
   "source": [
    "sim1.date.max()"
   ]
  },
  {
   "cell_type": "code",
   "execution_count": null,
   "metadata": {},
   "outputs": [],
   "source": []
  }
 ],
 "metadata": {
  "kernelspec": {
   "display_name": "Python 3.8.1 64-bit ('GPX_env': conda)",
   "language": "python",
   "name": "python38164bitgpxenvconda48ca4c503e2d40e68f7844ea8bc20df9"
  },
  "language_info": {
   "codemirror_mode": {
    "name": "ipython",
    "version": 3
   },
   "file_extension": ".py",
   "mimetype": "text/x-python",
   "name": "python",
   "nbconvert_exporter": "python",
   "pygments_lexer": "ipython3",
   "version": "3.8.1"
  }
 },
 "nbformat": 4,
 "nbformat_minor": 2
}
