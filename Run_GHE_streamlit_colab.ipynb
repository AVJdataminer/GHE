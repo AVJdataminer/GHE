{
  "nbformat": 4,
  "nbformat_minor": 0,
  "metadata": {
    "colab": {
      "name": "Run_GHE_streamlit_colab",
      "provenance": [],
      "collapsed_sections": [],
      "include_colab_link": true
    },
    "kernelspec": {
      "display_name": "Python 3",
      "name": "python3"
    }
  },
  "cells": [
    {
      "cell_type": "markdown",
      "metadata": {
        "id": "view-in-github",
        "colab_type": "text"
      },
      "source": [
        "<a href=\"https://colab.research.google.com/github/AVJdataminer/GHE/blob/master/Run_GHE_streamlit_colab.ipynb\" target=\"_parent\"><img src=\"https://colab.research.google.com/assets/colab-badge.svg\" alt=\"Open In Colab\"/></a>"
      ]
    },
    {
      "cell_type": "markdown",
      "metadata": {
        "id": "msrQ4zJOol95",
        "colab_type": "text"
      },
      "source": [
        "# Github Issues Explorer\n",
        "This notebook is provided for easy use of the Github Issues Explorer [Streamlit.io](https://Streamlit.io) app. The app currently isn't hosted anywhere so it has to be initiated and hosted by each user. This notebook creates a way to run and host the app from your browser.\n",
        "\n",
        "For more info on the app check [here.](https://github.com/AVJdataminer/GHE)\n",
        "\n",
        "*Requirements: You must first have a Github personal token and contributor rights to the Repo you would like to explore*.\n",
        "\n",
        "Steps:\n",
        "\n",
        "1. Get a [Github personal token](https://docs.github.com/en/github/authenticating-to-github/creating-a-personal-access-token)\n",
        "2. Run all the cells in this notebook.\n",
        "3. Click on the ngrok link to view the app in your browser.\n",
        "\n",
        "Alternatively, you can download the [app](https://github.com/AVJdataminer/GHE) and streamlit and run it from your local Python environment. *Note that the install on a local python environment is different than below.*\n"
      ]
    },
    {
      "cell_type": "markdown",
      "metadata": {
        "id": "YueD6bxr_Ndx",
        "colab_type": "text"
      },
      "source": [
        "Run all of the following to start the Streamlit App.\n",
        "- Ignore the ipykernel error, as long as the four bars completed running you're good to go"
      ]
    },
    {
      "cell_type": "code",
      "metadata": {
        "id": "cPxfsHGb5_xh",
        "colab_type": "code",
        "colab": {
          "base_uri": "https://localhost:8080/",
          "height": 170
        },
        "outputId": "25702389-a3e8-4086-a791-19ad3640ecfb"
      },
      "source": [
        "#install streamlit\n",
        "!pip install streamlit -q"
      ],
      "execution_count": 1,
      "outputs": [
        {
          "output_type": "stream",
          "text": [
            "\u001b[K     |████████████████████████████████| 7.2MB 2.9MB/s \n",
            "\u001b[K     |████████████████████████████████| 112kB 39.7MB/s \n",
            "\u001b[K     |████████████████████████████████| 102kB 9.1MB/s \n",
            "\u001b[K     |████████████████████████████████| 4.4MB 47.0MB/s \n",
            "\u001b[K     |████████████████████████████████| 122kB 36.6MB/s \n",
            "\u001b[?25h  Building wheel for blinker (setup.py) ... \u001b[?25l\u001b[?25hdone\n",
            "  Building wheel for watchdog (setup.py) ... \u001b[?25l\u001b[?25hdone\n",
            "  Building wheel for pathtools (setup.py) ... \u001b[?25l\u001b[?25hdone\n",
            "\u001b[31mERROR: google-colab 1.0.0 has requirement ipykernel~=4.10, but you'll have ipykernel 5.3.4 which is incompatible.\u001b[0m\n"
          ],
          "name": "stdout"
        }
      ]
    },
    {
      "cell_type": "markdown",
      "metadata": {
        "id": "Zl4uyCpHrH7H",
        "colab_type": "text"
      },
      "source": [
        "Install ngrok to allow for port forwarding through Google Colab."
      ]
    },
    {
      "cell_type": "code",
      "metadata": {
        "id": "GC3gSHfd6J9y",
        "colab_type": "code",
        "colab": {
          "base_uri": "https://localhost:8080/",
          "height": 204
        },
        "outputId": "6d01c317-b940-4278-d77f-f73d2b9e8ab2"
      },
      "source": [
        "!wget https://bin.equinox.io/c/4VmDzA7iaHb/ngrok-stable-linux-amd64.zip\n",
        "!unzip -qq ngrok-stable-linux-amd64.zip"
      ],
      "execution_count": 2,
      "outputs": [
        {
          "output_type": "stream",
          "text": [
            "--2020-08-18 17:49:45--  https://bin.equinox.io/c/4VmDzA7iaHb/ngrok-stable-linux-amd64.zip\n",
            "Resolving bin.equinox.io (bin.equinox.io)... 34.206.18.248, 3.215.242.209, 52.21.175.83, ...\n",
            "Connecting to bin.equinox.io (bin.equinox.io)|34.206.18.248|:443... connected.\n",
            "HTTP request sent, awaiting response... 200 OK\n",
            "Length: 13773305 (13M) [application/octet-stream]\n",
            "Saving to: ‘ngrok-stable-linux-amd64.zip’\n",
            "\n",
            "ngrok-stable-linux- 100%[===================>]  13.13M  60.1MB/s    in 0.2s    \n",
            "\n",
            "2020-08-18 17:49:46 (60.1 MB/s) - ‘ngrok-stable-linux-amd64.zip’ saved [13773305/13773305]\n",
            "\n"
          ],
          "name": "stdout"
        }
      ]
    },
    {
      "cell_type": "markdown",
      "metadata": {
        "id": "oE8YZYsk-UGs",
        "colab_type": "text"
      },
      "source": [
        "After running the next two cells. **Use the output of this command as the link to your Streamlit app.**"
      ]
    },
    {
      "cell_type": "code",
      "metadata": {
        "id": "XMOoOLFT88ku",
        "colab_type": "code",
        "colab": {
          "base_uri": "https://localhost:8080/",
          "height": 34
        },
        "outputId": "41324563-c559-4ca8-8be6-610c32e57097"
      },
      "source": [
        "get_ipython().system_raw('./ngrok http 8501 &')\n",
        "! curl -s http://localhost:4040/api/tunnels | python3 -c \\\n",
        "    \"import sys, json; print(json.load(sys.stdin)['tunnels'][0]['public_url'])\""
      ],
      "execution_count": 3,
      "outputs": [
        {
          "output_type": "stream",
          "text": [
            "http://bdf5a1fc59d7.ngrok.io\n"
          ],
          "name": "stdout"
        }
      ]
    },
    {
      "cell_type": "markdown",
      "metadata": {
        "id": "SdNVtkKn-l-z",
        "colab_type": "text"
      },
      "source": [
        "If you click on the links below they will not lead you to the app because we are working on Google Colab. But they do indicate to us that the app is now running at the ngrok link above. You can stop the cell to close the app.\n",
        "\n",
        "When you go to the app browser page there will be a key error until you paste in your Github Token in the field."
      ]
    },
    {
      "cell_type": "code",
      "metadata": {
        "id": "r6gKrGQiVqWW",
        "colab_type": "code",
        "colab": {
          "base_uri": "https://localhost:8080/",
          "height": 340
        },
        "outputId": "7e046682-356d-4ca0-b0a2-23dc0ff28d56"
      },
      "source": [
        "!streamlit run https://raw.githubusercontent.com/AVJdataminer/GHE/master/streamlit.py"
      ],
      "execution_count": 4,
      "outputs": [
        {
          "output_type": "stream",
          "text": [
            "\u001b[0m\n",
            "\u001b[34m\u001b[1m  You can now view your Streamlit app in your browser.\u001b[0m\n",
            "\u001b[0m\n",
            "\u001b[34m  Network URL: \u001b[0m\u001b[1mhttp://172.28.0.2:8501\u001b[0m\n",
            "\u001b[34m  External URL: \u001b[0m\u001b[1mhttp://34.73.204.139:8501\u001b[0m\n",
            "\u001b[0m\n",
            "/tmp/tmp0bwnvv4v/streamlit.py:72: SettingWithCopyWarning: \n",
            "A value is trying to be set on a copy of a slice from a DataFrame.\n",
            "Try using .loc[row_indexer,col_indexer] = value instead\n",
            "\n",
            "See the caveats in the documentation: https://pandas.pydata.org/pandas-docs/stable/user_guide/indexing.html#returning-a-view-versus-a-copy\n",
            "  data['created_at'] = pd.to_datetime(data['created_at'])\n",
            "/tmp/tmp0bwnvv4v/streamlit.py:72: SettingWithCopyWarning: \n",
            "A value is trying to be set on a copy of a slice from a DataFrame.\n",
            "Try using .loc[row_indexer,col_indexer] = value instead\n",
            "\n",
            "See the caveats in the documentation: https://pandas.pydata.org/pandas-docs/stable/user_guide/indexing.html#returning-a-view-versus-a-copy\n",
            "  data['created_at'] = pd.to_datetime(data['created_at'])\n",
            "\u001b[34m  Stopping...\u001b[0m\n"
          ],
          "name": "stdout"
        }
      ]
    },
    {
      "cell_type": "code",
      "metadata": {
        "id": "mqQTTCfsWDEE",
        "colab_type": "code",
        "colab": {}
      },
      "source": [
        ""
      ],
      "execution_count": null,
      "outputs": []
    }
  ]
}